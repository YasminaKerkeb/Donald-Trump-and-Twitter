{
 "cells": [
  {
   "cell_type": "markdown",
   "metadata": {},
   "source": [
    "# iPython explanatory notebook \n",
    "## Final project 02805 Social Data Analysis 2019"
   ]
  },
  {
   "cell_type": "markdown",
   "metadata": {},
   "source": [
    "Introduction?\n",
    "\n",
    "Link to Observable Notebook: https://observablehq.com/d/9b3fa89d8b0f71bf"
   ]
  },
  {
   "cell_type": "markdown",
   "metadata": {},
   "source": [
    "### Notebook content:\n",
    "* [Motivation](#Motivation)    \n",
    "    * [Dataset](#1a)\n",
    "    * [Why this data](#1b)\n",
    "    * [User experience](#1c)\n",
    "    \n",
    "    \n",
    "* [Basic statistics](#Stats)\n",
    "    * [Preprocessing](#2a)\n",
    "    * [Key points](#2b)\n",
    "    \n",
    "    \n",
    "* [Data Analysis](#3)\n",
    "    * [Dataset analysis](#3a)\n",
    "    * [Machine Learning](#3b)\n",
    "    \n",
    "    \n",
    "* [Genre](#4)\n",
    "    * [Visual Narrative](#4a)\n",
    "    * [Narrative Structur](#4b)\n",
    "    \n",
    "    \n",
    "* [Visualizations](#5)\n",
    "    * [Choice of visualization](#5a)\n",
    "    * [Story telling](#5b)\n",
    "    \n",
    "    \n",
    "* [Discussion](#6)\n",
    "    * [What went well?](#6a)\n",
    "    * [What is missing?](#6b)\n",
    "    \n",
    "    \n",
    "* [Contributions](#7)\n",
    "\n",
    "\n",
    "* [References](#8)"
   ]
  },
  {
   "cell_type": "markdown",
   "metadata": {},
   "source": [
    "## Import packages:"
   ]
  },
  {
   "cell_type": "code",
   "execution_count": 1,
   "metadata": {
    "collapsed": true
   },
   "outputs": [],
   "source": [
    "# Import packages:\n",
    "import pandas as pd\n",
    "import numpy as np\n",
    "import matplotlib.pyplot as plt; \n",
    "%matplotlib inline\n",
    "import folium  \n",
    "from folium import plugins\n",
    "from nltk.tokenize import sent_tokenize, word_tokenize\n",
    "import nltk\n",
    "from nltk.corpus import stopwords\n",
    "import re\n",
    "from IPython.core.display import HTML\n",
    "from scipy.misc import imread\n",
    "from datetime import datetime\n",
    "import time"
   ]
  },
  {
   "cell_type": "markdown",
   "metadata": {},
   "source": [
    "# 1. Motivation <a id=\"Motivation\"></a>"
   ]
  },
  {
   "cell_type": "markdown",
   "metadata": {},
   "source": [
    "## 1.a What is your dataset? <a id=\"1a\"></a>"
   ]
  },
  {
   "cell_type": "markdown",
   "metadata": {},
   "source": [
    "Our dataset is a gathering of two datasets from different sources that contain tweets from Donald Trump official twitter account as well as tweets from people that reacted to Trump’s actions and whereabouts.\n",
    "\n",
    "**Data source**: We used two datasets; one containing people’s tweets mentioning ‘Trump’ (https://data.world/s0nas/donal-trump-tweets-sentiment) (355.31 MB)  and the other one contains tweets from Trump’s personal account and official account managed by his staff from first 100 days after the he was elected (https://data.world/sbjun/trumps-post-inaug-tweets) (134.5 KB).  \n",
    "\n",
    "There are about 1.8 millions tweets in the first dataset which are from the period of february fifth 2017 to february fifteen 2017. The second dataset contains a total of 477 tweets from which 70 are from the same period as the tweets in the first dataset.\n",
    "\n",
    "**Features/Attributes**: The first dataset is a file with 9 columns containing creating datetime of tweet, the users name of the tweet, the tweet text, the timezone of the twitter users, the location of the tweet, geo latitude, geo longitude, the geo location of the tweets and the sentiment ratings. The second dataset contains a file with 6 columns such as the ID of tweet, Timestamp (EST), the text of the tweet, number of favorites, number of retweets and the device source of the tweet. "
   ]
  },
  {
   "cell_type": "markdown",
   "metadata": {},
   "source": [
    "### Tweets from Donald Trumps personal Account"
   ]
  },
  {
   "cell_type": "markdown",
   "metadata": {},
   "source": [
    "Here we load the data with Tweets from Trumps own account and generate new the columns Date/Time/Hour from the Timestamp. "
   ]
  },
  {
   "cell_type": "code",
   "execution_count": 2,
   "metadata": {},
   "outputs": [
    {
     "data": {
      "text/html": [
       "<div>\n",
       "<style scoped>\n",
       "    .dataframe tbody tr th:only-of-type {\n",
       "        vertical-align: middle;\n",
       "    }\n",
       "\n",
       "    .dataframe tbody tr th {\n",
       "        vertical-align: top;\n",
       "    }\n",
       "\n",
       "    .dataframe thead th {\n",
       "        text-align: right;\n",
       "    }\n",
       "</style>\n",
       "<table border=\"1\" class=\"dataframe\">\n",
       "  <thead>\n",
       "    <tr style=\"text-align: right;\">\n",
       "      <th></th>\n",
       "      <th>id</th>\n",
       "      <th>tweet</th>\n",
       "      <th>timestamp</th>\n",
       "      <th>of_favorites</th>\n",
       "      <th>of_retweets</th>\n",
       "      <th>source</th>\n",
       "      <th>Date</th>\n",
       "      <th>Time</th>\n",
       "      <th>Hour</th>\n",
       "    </tr>\n",
       "  </thead>\n",
       "  <tbody>\n",
       "    <tr>\n",
       "      <th>0</th>\n",
       "      <td>858375278686613504</td>\n",
       "      <td>Mainstream (FAKE) media refuses to state our l...</td>\n",
       "      <td>Sat Apr 29 2017 13:39:48</td>\n",
       "      <td>79996</td>\n",
       "      <td>19931</td>\n",
       "      <td>iPhone</td>\n",
       "      <td>2017-04-29</td>\n",
       "      <td>13:39:48</td>\n",
       "      <td>13</td>\n",
       "    </tr>\n",
       "    <tr>\n",
       "      <th>1</th>\n",
       "      <td>858343980823703552</td>\n",
       "      <td>Looking forward to RALLY in the Great State of...</td>\n",
       "      <td>Sat Apr 29 2017 11:35:26</td>\n",
       "      <td>59360</td>\n",
       "      <td>10295</td>\n",
       "      <td>iPhone</td>\n",
       "      <td>2017-04-29</td>\n",
       "      <td>11:35:26</td>\n",
       "      <td>11</td>\n",
       "    </tr>\n",
       "    <tr>\n",
       "      <th>2</th>\n",
       "      <td>858148882756325376</td>\n",
       "      <td>.@LouDobbs just stated that \"President Trump's...</td>\n",
       "      <td>Fri Apr 28 2017 22:40:11</td>\n",
       "      <td>72907</td>\n",
       "      <td>15035</td>\n",
       "      <td>iPhone</td>\n",
       "      <td>2017-04-28</td>\n",
       "      <td>22:40:11</td>\n",
       "      <td>22</td>\n",
       "    </tr>\n",
       "    <tr>\n",
       "      <th>3</th>\n",
       "      <td>858100088253669376</td>\n",
       "      <td>North Korea disrespected the wishes of China &amp;...</td>\n",
       "      <td>Fri Apr 28 2017 19:26:18</td>\n",
       "      <td>85638</td>\n",
       "      <td>23588</td>\n",
       "      <td>iPhone</td>\n",
       "      <td>2017-04-28</td>\n",
       "      <td>19:26:18</td>\n",
       "      <td>19</td>\n",
       "    </tr>\n",
       "    <tr>\n",
       "      <th>4</th>\n",
       "      <td>858086278037950464</td>\n",
       "      <td>I will be interviewed by @MarthaMaccallum on @...</td>\n",
       "      <td>Fri Apr 28 2017 18:31:25</td>\n",
       "      <td>35096</td>\n",
       "      <td>5242</td>\n",
       "      <td>iPhone</td>\n",
       "      <td>2017-04-28</td>\n",
       "      <td>18:31:25</td>\n",
       "      <td>18</td>\n",
       "    </tr>\n",
       "  </tbody>\n",
       "</table>\n",
       "</div>"
      ],
      "text/plain": [
       "                   id                                              tweet  \\\n",
       "0  858375278686613504  Mainstream (FAKE) media refuses to state our l...   \n",
       "1  858343980823703552  Looking forward to RALLY in the Great State of...   \n",
       "2  858148882756325376  .@LouDobbs just stated that \"President Trump's...   \n",
       "3  858100088253669376  North Korea disrespected the wishes of China &...   \n",
       "4  858086278037950464  I will be interviewed by @MarthaMaccallum on @...   \n",
       "\n",
       "                  timestamp  of_favorites  of_retweets  source        Date  \\\n",
       "0  Sat Apr 29 2017 13:39:48         79996        19931  iPhone  2017-04-29   \n",
       "1  Sat Apr 29 2017 11:35:26         59360        10295  iPhone  2017-04-29   \n",
       "2  Fri Apr 28 2017 22:40:11         72907        15035  iPhone  2017-04-28   \n",
       "3  Fri Apr 28 2017 19:26:18         85638        23588  iPhone  2017-04-28   \n",
       "4  Fri Apr 28 2017 18:31:25         35096         5242  iPhone  2017-04-28   \n",
       "\n",
       "       Time  Hour  \n",
       "0  13:39:48    13  \n",
       "1  11:35:26    11  \n",
       "2  22:40:11    22  \n",
       "3  19:26:18    19  \n",
       "4  18:31:25    18  "
      ]
     },
     "execution_count": 2,
     "metadata": {},
     "output_type": "execute_result"
    }
   ],
   "source": [
    "##### Load data: ######\n",
    "# This data is from: https://data.world/sbjun/trumps-post-inaug-tweets\n",
    "\n",
    "# Read the data:\n",
    "df_Trump = pd.read_csv(\"tweets_from_Trump.csv\"\n",
    "                   ,sep=',',encoding = \"ISO-8859-1\") #,usecols=fields)\n",
    "\n",
    "N = len(df_Trump.index)\n",
    "\n",
    "# Parse columns as data and time:\n",
    "df_Trump['Date'] = pd.to_datetime(df_Trump.timestamp).dt.date\n",
    "df_Trump['Time'] = pd.to_datetime(df_Trump.timestamp).dt.time\n",
    "df_Trump['Hour'] = pd.to_datetime(df_Trump.timestamp).dt.hour\n",
    "df_Trump.head()"
   ]
  },
  {
   "cell_type": "markdown",
   "metadata": {},
   "source": [
    "### Tweets from other user incuding sentiment rating"
   ]
  },
  {
   "cell_type": "markdown",
   "metadata": {},
   "source": [
    "Here we load the data with Tweets about Trump. We also create two new columns, one corresponding to the day and another one reflecting the positivity or the negativity of the sentiment rate (-1 if the sentiment rate is negative, 0 if it is neutral and 1 if it is positive)"
   ]
  },
  {
   "cell_type": "code",
   "execution_count": 3,
   "metadata": {},
   "outputs": [
    {
     "data": {
      "text/html": [
       "<div>\n",
       "<style scoped>\n",
       "    .dataframe tbody tr th:only-of-type {\n",
       "        vertical-align: middle;\n",
       "    }\n",
       "\n",
       "    .dataframe tbody tr th {\n",
       "        vertical-align: top;\n",
       "    }\n",
       "\n",
       "    .dataframe thead th {\n",
       "        text-align: right;\n",
       "    }\n",
       "</style>\n",
       "<table border=\"1\" class=\"dataframe\">\n",
       "  <thead>\n",
       "    <tr style=\"text-align: right;\">\n",
       "      <th></th>\n",
       "      <th>created_at</th>\n",
       "      <th>from_user_name</th>\n",
       "      <th>text</th>\n",
       "      <th>from_user_timezone</th>\n",
       "      <th>location</th>\n",
       "      <th>geo_lat</th>\n",
       "      <th>geo_lng</th>\n",
       "      <th>Sentiment</th>\n",
       "      <th>Day</th>\n",
       "      <th>Polarity</th>\n",
       "    </tr>\n",
       "  </thead>\n",
       "  <tbody>\n",
       "    <tr>\n",
       "      <th>0</th>\n",
       "      <td>2017-02-05 13:36:02</td>\n",
       "      <td>NewNowMan</td>\n",
       "      <td>RT @JohnLeguizamo: #trump not draining swamp b...</td>\n",
       "      <td>Central Time (US &amp; Canada)</td>\n",
       "      <td>Dog's World</td>\n",
       "      <td>NaN</td>\n",
       "      <td>NaN</td>\n",
       "      <td>-0.70</td>\n",
       "      <td>2017-02-05</td>\n",
       "      <td>-1.0</td>\n",
       "    </tr>\n",
       "    <tr>\n",
       "      <th>1</th>\n",
       "      <td>2017-02-05 13:36:04</td>\n",
       "      <td>AskMen</td>\n",
       "      <td>ICYMI: Hackers Rig FM Radio Stations To Play A...</td>\n",
       "      <td>Eastern Time (US &amp; Canada)</td>\n",
       "      <td>Worldwide</td>\n",
       "      <td>NaN</td>\n",
       "      <td>NaN</td>\n",
       "      <td>0.00</td>\n",
       "      <td>2017-02-05</td>\n",
       "      <td>0.0</td>\n",
       "    </tr>\n",
       "    <tr>\n",
       "      <th>2</th>\n",
       "      <td>2017-02-05 13:36:04</td>\n",
       "      <td>khalidrabaani</td>\n",
       "      <td>Trump protests: LGBTQ rally in New York https:...</td>\n",
       "      <td>NaN</td>\n",
       "      <td>NaN</td>\n",
       "      <td>NaN</td>\n",
       "      <td>NaN</td>\n",
       "      <td>0.20</td>\n",
       "      <td>2017-02-05</td>\n",
       "      <td>1.0</td>\n",
       "    </tr>\n",
       "    <tr>\n",
       "      <th>3</th>\n",
       "      <td>2017-02-05 13:36:04</td>\n",
       "      <td>TerenceB24</td>\n",
       "      <td>\"Hi I'm Piers Morgan. David Beckham is awful b...</td>\n",
       "      <td>London</td>\n",
       "      <td>London</td>\n",
       "      <td>NaN</td>\n",
       "      <td>NaN</td>\n",
       "      <td>-0.85</td>\n",
       "      <td>2017-02-05</td>\n",
       "      <td>-1.0</td>\n",
       "    </tr>\n",
       "    <tr>\n",
       "      <th>4</th>\n",
       "      <td>2017-02-05 13:36:04</td>\n",
       "      <td>pwilcox1</td>\n",
       "      <td>RT @GlennFranco68: Tech Firm Suing BuzzFeed fo...</td>\n",
       "      <td>Eastern Time (US &amp; Canada)</td>\n",
       "      <td>Keystone Heights, Florida</td>\n",
       "      <td>NaN</td>\n",
       "      <td>NaN</td>\n",
       "      <td>-0.90</td>\n",
       "      <td>2017-02-05</td>\n",
       "      <td>-1.0</td>\n",
       "    </tr>\n",
       "  </tbody>\n",
       "</table>\n",
       "</div>"
      ],
      "text/plain": [
       "            created_at from_user_name  \\\n",
       "0  2017-02-05 13:36:02      NewNowMan   \n",
       "1  2017-02-05 13:36:04         AskMen   \n",
       "2  2017-02-05 13:36:04  khalidrabaani   \n",
       "3  2017-02-05 13:36:04     TerenceB24   \n",
       "4  2017-02-05 13:36:04       pwilcox1   \n",
       "\n",
       "                                                text  \\\n",
       "0  RT @JohnLeguizamo: #trump not draining swamp b...   \n",
       "1  ICYMI: Hackers Rig FM Radio Stations To Play A...   \n",
       "2  Trump protests: LGBTQ rally in New York https:...   \n",
       "3  \"Hi I'm Piers Morgan. David Beckham is awful b...   \n",
       "4  RT @GlennFranco68: Tech Firm Suing BuzzFeed fo...   \n",
       "\n",
       "           from_user_timezone                   location  geo_lat  geo_lng  \\\n",
       "0  Central Time (US & Canada)                Dog's World      NaN      NaN   \n",
       "1  Eastern Time (US & Canada)                  Worldwide      NaN      NaN   \n",
       "2                         NaN                        NaN      NaN      NaN   \n",
       "3                      London                     London      NaN      NaN   \n",
       "4  Eastern Time (US & Canada)  Keystone Heights, Florida      NaN      NaN   \n",
       "\n",
       "   Sentiment         Day  Polarity  \n",
       "0      -0.70  2017-02-05      -1.0  \n",
       "1       0.00  2017-02-05       0.0  \n",
       "2       0.20  2017-02-05       1.0  \n",
       "3      -0.85  2017-02-05      -1.0  \n",
       "4      -0.90  2017-02-05      -1.0  "
      ]
     },
     "execution_count": 3,
     "metadata": {},
     "output_type": "execute_result"
    }
   ],
   "source": [
    "##### Load data: ######\n",
    "# This data is from: https://data.world/s0nas/donal-trump-tweets-sentiment\n",
    "\n",
    "# Read the data:\n",
    "df_sentiment = pd.read_csv(\"Trump_tweets_sentiment.csv\"\n",
    "                   ,sep=',',encoding = \"ISO-8859-1\");\n",
    "\n",
    "N = len(df_sentiment.index);\n",
    "\n",
    "# Adding Day and Polarity columns\n",
    "df_sentiment['Day']=pd.to_datetime(df_sentiment['created_at']).dt.date\n",
    "df_sentiment['Polarity']=np.sign(df_sentiment['Sentiment'])\n",
    "\n",
    "df_sentiment.head()\n"
   ]
  },
  {
   "cell_type": "markdown",
   "metadata": {},
   "source": [
    "## 1.b Why did you choose this/these particular dataset(s)? <a id=\"1b\"></a>"
   ]
  },
  {
   "cell_type": "markdown",
   "metadata": {},
   "source": [
    "Twitter is the most commonly used social media for political purposes. It is THE social virtual place for head of political parties, ministers and even presidents to deliver political statements, react to the World’s news feed and express opinions on different matters.\n"
   ]
  },
  {
   "cell_type": "markdown",
   "metadata": {},
   "source": [
    "## 1.c What was your goal for the end user's experience? <a id=\"1c\"></a>"
   ]
  },
  {
   "cell_type": "markdown",
   "metadata": {
    "collapsed": true
   },
   "source": [
    "The central focus of this project is to allow the user to analyze Donald Trump related, Twitter activity during 12 of the first 100 days after his election, in order to not only investigate how Donald Trump’s activity on Twitter  has influenced the popularity of the current news feed at that time, but also how that echoed on his own popularity."
   ]
  },
  {
   "cell_type": "markdown",
   "metadata": {},
   "source": [
    "# 2 Basic stats about the dataset: <a id=\"Stats\"></a>"
   ]
  },
  {
   "cell_type": "markdown",
   "metadata": {},
   "source": [
    "## 2.a Write about your choices in data cleaning and preprocessing. <a id=\"2a\"></a>"
   ]
  },
  {
   "cell_type": "markdown",
   "metadata": {},
   "source": [
    "The dataset has been modified with python in Jupyter notebook before we using it for plotting data visualisation in observable notebook. Some columns, some non numericals or non relevant data are removed and the preprocessed dataset was saved as a csv file and uploaded to Github. Some columns have been added in preprocessing in relation to the necessary data for the plots. \n",
    "\n",
    "The first dataset containing Tweets with the keyword Trump was cleaned by removing NaN values depending on the columns needed. The `Day`column was created using the `created_at` column, as well as the `Polarity` column that denotes the sentiment rate polarity.\n",
    "\n",
    "The  first preprocessed data frame is 14 KB extracted dataset for 12 days from the first dataset. The `timestamp` column was moved and added some new columns in order to use for the creating visualisations. From this data, a small new dataset with few columns is also extracted and created for the heat map.\n",
    "\n",
    "The second dataset containing tweets from Trump’s personal account was preprocessed seen below. First the dataset is loaded to a dataframe, parsing dates and times in proper format. Then Tweets from the periode February fifth to February fifteen is extracted. Two/three data frames are constructed from this dataset and used in the Observable notebook. \n"
   ]
  },
  {
   "cell_type": "markdown",
   "metadata": {},
   "source": [
    "### Preparing dataframe with Trumps Tweets from the periode 05/02 - 15/02 2017\n",
    "In the following a dataframe is prepared that onlycontains Tweets from Donal Trump from the sam period as the other dataset."
   ]
  },
  {
   "cell_type": "code",
   "execution_count": 25,
   "metadata": {},
   "outputs": [
    {
     "data": {
      "text/html": [
       "<div>\n",
       "<style scoped>\n",
       "    .dataframe tbody tr th:only-of-type {\n",
       "        vertical-align: middle;\n",
       "    }\n",
       "\n",
       "    .dataframe tbody tr th {\n",
       "        vertical-align: top;\n",
       "    }\n",
       "\n",
       "    .dataframe thead th {\n",
       "        text-align: right;\n",
       "    }\n",
       "</style>\n",
       "<table border=\"1\" class=\"dataframe\">\n",
       "  <thead>\n",
       "    <tr style=\"text-align: right;\">\n",
       "      <th></th>\n",
       "      <th>ID</th>\n",
       "      <th>Date</th>\n",
       "      <th>Time</th>\n",
       "      <th>tweet</th>\n",
       "      <th>of_favorites</th>\n",
       "      <th>of_retweets</th>\n",
       "      <th>source</th>\n",
       "    </tr>\n",
       "  </thead>\n",
       "  <tbody>\n",
       "    <tr>\n",
       "      <th>0</th>\n",
       "      <td>832375230274400256</td>\n",
       "      <td>2017-02-16</td>\n",
       "      <td>18:44:54</td>\n",
       "      <td>'Trump signs bill undoing Obama coal mining ru...</td>\n",
       "      <td>94462</td>\n",
       "      <td>18859</td>\n",
       "      <td>iPhone</td>\n",
       "    </tr>\n",
       "    <tr>\n",
       "      <th>1</th>\n",
       "      <td>832238070460186624</td>\n",
       "      <td>2017-02-16</td>\n",
       "      <td>09:39:52</td>\n",
       "      <td>The Democrats had to come up with a story as t...</td>\n",
       "      <td>122171</td>\n",
       "      <td>27122</td>\n",
       "      <td>Android</td>\n",
       "    </tr>\n",
       "    <tr>\n",
       "      <th>2</th>\n",
       "      <td>832230758299340800</td>\n",
       "      <td>2017-02-16</td>\n",
       "      <td>09:10:49</td>\n",
       "      <td>FAKE NEWS media, which makes up stories and \"s...</td>\n",
       "      <td>100119</td>\n",
       "      <td>20019</td>\n",
       "      <td>Android</td>\n",
       "    </tr>\n",
       "    <tr>\n",
       "      <th>3</th>\n",
       "      <td>832198588201594880</td>\n",
       "      <td>2017-02-16</td>\n",
       "      <td>07:02:59</td>\n",
       "      <td>The spotlight has finally been put on the low-...</td>\n",
       "      <td>127149</td>\n",
       "      <td>25366</td>\n",
       "      <td>Android</td>\n",
       "    </tr>\n",
       "    <tr>\n",
       "      <th>4</th>\n",
       "      <td>832197515248275456</td>\n",
       "      <td>2017-02-16</td>\n",
       "      <td>06:58:43</td>\n",
       "      <td>Leaking, and even illegal classified leaking, ...</td>\n",
       "      <td>90466</td>\n",
       "      <td>17232</td>\n",
       "      <td>Android</td>\n",
       "    </tr>\n",
       "  </tbody>\n",
       "</table>\n",
       "</div>"
      ],
      "text/plain": [
       "                   ID        Date      Time  \\\n",
       "0  832375230274400256  2017-02-16  18:44:54   \n",
       "1  832238070460186624  2017-02-16  09:39:52   \n",
       "2  832230758299340800  2017-02-16  09:10:49   \n",
       "3  832198588201594880  2017-02-16  07:02:59   \n",
       "4  832197515248275456  2017-02-16  06:58:43   \n",
       "\n",
       "                                               tweet  of_favorites  \\\n",
       "0  'Trump signs bill undoing Obama coal mining ru...         94462   \n",
       "1  The Democrats had to come up with a story as t...        122171   \n",
       "2  FAKE NEWS media, which makes up stories and \"s...        100119   \n",
       "3  The spotlight has finally been put on the low-...        127149   \n",
       "4  Leaking, and even illegal classified leaking, ...         90466   \n",
       "\n",
       "   of_retweets   source  \n",
       "0        18859   iPhone  \n",
       "1        27122  Android  \n",
       "2        20019  Android  \n",
       "3        25366  Android  \n",
       "4        17232  Android  "
      ]
     },
     "execution_count": 25,
     "metadata": {},
     "output_type": "execute_result"
    }
   ],
   "source": [
    "# Cut out data from 05/02 to 15/02:\n",
    "df_temp = df_Trump[(pd.to_datetime(df_Trump.Date) <= pd.to_datetime('2017-02-16')) & (pd.to_datetime(df_Trump.Date) >= pd.to_datetime('2017-02-05'))]\n",
    "\n",
    "# Make new dataframe and fill the following columns with data from df_temp:\n",
    "df_new = pd.DataFrame()\n",
    "df_new['ID'] = df_temp.id\n",
    "df_new['Date'] = df_temp.Date\n",
    "df_new['Time'] = df_temp.Time\n",
    "df_new[['tweet','of_favorites','of_retweets','source']] = df_temp[['tweet','of_favorites','of_retweets','source']]\n",
    "# Reset the index:\n",
    "df_new.reset_index(inplace = True, drop=True)\n",
    "\n",
    "# Save the dataframe to as .csv:\n",
    "df_new.to_csv('tweets_from_trump_processed.csv',index = False)\n",
    "df_new.head()"
   ]
  },
  {
   "cell_type": "markdown",
   "metadata": {},
   "source": [
    "### Preparing dataframe with keyword of Trump's own Tweets of each unique day:\n",
    "In the following a dataframe is prepared with dates the Keyword from the Tweets of the given day."
   ]
  },
  {
   "cell_type": "code",
   "execution_count": 5,
   "metadata": {
    "scrolled": true
   },
   "outputs": [
    {
     "data": {
      "text/html": [
       "<div>\n",
       "<style scoped>\n",
       "    .dataframe tbody tr th:only-of-type {\n",
       "        vertical-align: middle;\n",
       "    }\n",
       "\n",
       "    .dataframe tbody tr th {\n",
       "        vertical-align: top;\n",
       "    }\n",
       "\n",
       "    .dataframe thead th {\n",
       "        text-align: right;\n",
       "    }\n",
       "</style>\n",
       "<table border=\"1\" class=\"dataframe\">\n",
       "  <thead>\n",
       "    <tr style=\"text-align: right;\">\n",
       "      <th></th>\n",
       "      <th>Date</th>\n",
       "      <th>Topic</th>\n",
       "    </tr>\n",
       "  </thead>\n",
       "  <tbody>\n",
       "    <tr>\n",
       "      <th>0</th>\n",
       "      <td>2017-02-16</td>\n",
       "      <td>Obama &lt;br&gt; Democrats RUSSIA Fake &lt;br&gt; FAKE NE...</td>\n",
       "    </tr>\n",
       "    <tr>\n",
       "      <th>1</th>\n",
       "      <td>2017-02-15</td>\n",
       "      <td>Venezuela Leopoldo Lopez &lt;br&gt; Aetna CEO Spira...</td>\n",
       "    </tr>\n",
       "    <tr>\n",
       "      <th>2</th>\n",
       "      <td>2017-02-14</td>\n",
       "      <td>Obamacare Humana Americans &lt;br&gt; President Tru...</td>\n",
       "    </tr>\n",
       "    <tr>\n",
       "      <th>3</th>\n",
       "      <td>2017-02-13</td>\n",
       "      <td>VASecretary Dr. David Shulkin Veterans &lt;br&gt; C...</td>\n",
       "    </tr>\n",
       "    <tr>\n",
       "      <th>4</th>\n",
       "      <td>2017-02-12</td>\n",
       "      <td>Florida Big FAKE NEWS &lt;br&gt; Stephen Miller- Su...</td>\n",
       "    </tr>\n",
       "    <tr>\n",
       "      <th>5</th>\n",
       "      <td>2017-02-11</td>\n",
       "      <td>Prime Minister Abe Japan Winter White House M...</td>\n",
       "    </tr>\n",
       "    <tr>\n",
       "      <th>6</th>\n",
       "      <td>2017-02-10</td>\n",
       "      <td>Joint Base Andrews MarineOne Prime Minister S...</td>\n",
       "    </tr>\n",
       "    <tr>\n",
       "      <th>7</th>\n",
       "      <td>2017-02-09</td>\n",
       "      <td>SEE YOU IN COURT THE SECURITY OF OUR NATION I...</td>\n",
       "    </tr>\n",
       "    <tr>\n",
       "      <th>8</th>\n",
       "      <td>2017-02-08</td>\n",
       "      <td>Attorney General SenatorSessions &lt;br&gt; EU Nati...</td>\n",
       "    </tr>\n",
       "    <tr>\n",
       "      <th>9</th>\n",
       "      <td>2017-02-07</td>\n",
       "      <td>Cabinet Democrats &lt;br&gt; National Sheriffs Asso...</td>\n",
       "    </tr>\n",
       "    <tr>\n",
       "      <th>10</th>\n",
       "      <td>2017-02-06</td>\n",
       "      <td>Islamic Europe Middle-East &lt;br&gt; Super Bowl P....</td>\n",
       "    </tr>\n",
       "    <tr>\n",
       "      <th>11</th>\n",
       "      <td>2017-02-05</td>\n",
       "      <td>Patriots Tom Brady Bob Kraft Coach B &lt;br&gt; Sup...</td>\n",
       "    </tr>\n",
       "  </tbody>\n",
       "</table>\n",
       "</div>"
      ],
      "text/plain": [
       "          Date                                              Topic\n",
       "0   2017-02-16   Obama <br> Democrats RUSSIA Fake <br> FAKE NE...\n",
       "1   2017-02-15   Venezuela Leopoldo Lopez <br> Aetna CEO Spira...\n",
       "2   2017-02-14   Obamacare Humana Americans <br> President Tru...\n",
       "3   2017-02-13   VASecretary Dr. David Shulkin Veterans <br> C...\n",
       "4   2017-02-12   Florida Big FAKE NEWS <br> Stephen Miller- Su...\n",
       "5   2017-02-11   Prime Minister Abe Japan Winter White House M...\n",
       "6   2017-02-10   Joint Base Andrews MarineOne Prime Minister S...\n",
       "7   2017-02-09   SEE YOU IN COURT THE SECURITY OF OUR NATION I...\n",
       "8   2017-02-08   Attorney General SenatorSessions <br> EU Nati...\n",
       "9   2017-02-07   Cabinet Democrats <br> National Sheriffs Asso...\n",
       "10  2017-02-06   Islamic Europe Middle-East <br> Super Bowl P....\n",
       "11  2017-02-05   Patriots Tom Brady Bob Kraft Coach B <br> Sup..."
      ]
     },
     "execution_count": 5,
     "metadata": {},
     "output_type": "execute_result"
    }
   ],
   "source": [
    "# Get processed data with extracted keyword for each tweet:\n",
    "fields = ['Date','Topic']\n",
    "df_topic = pd.read_csv(\"topics_from_Trump.csv\"\n",
    "                   ,sep=',',encoding = \"ISO-8859-1\",usecols=fields)\n",
    "df_topic = df_topic[(pd.to_datetime(df_Trump.Date) <= pd.to_datetime('2017-02-16')) & (pd.to_datetime(df_Trump.Date) >= pd.to_datetime('2017-02-05'))]\n",
    "# Drop field with NaN:\n",
    "df_topic = df_topic.dropna();\n",
    "# Group the data by day and join the string with the carcter '<br>' (for line break in html):\n",
    "df_topic['Topic'] = df_topic.groupby(['Date'])['Topic'].transform(lambda x: ' <br>'.join(x))\n",
    "# Remove duplicate created above:\n",
    "df_topic = df_topic.drop_duplicates()\n",
    "# Reset the idex:\n",
    "df_topic.reset_index(inplace = True, drop=True)\n",
    "# Save as .csv:\n",
    "df_topic.to_csv('tweets_from_trump_topic.csv',index = False)\n",
    "df_topic"
   ]
  },
  {
   "cell_type": "markdown",
   "metadata": {},
   "source": [
    "### Preparing dataframe daily describing distribution of Trumps tweets:"
   ]
  },
  {
   "cell_type": "markdown",
   "metadata": {},
   "source": [
    "We first define the time intervals with an array length 5. Then  we label these intervals like  Morning(5 to 13), Afternoon(13 to 17), evening(17-24) and Night(0-5).  As we are showing Trumps twitters activity for 11 days, then we filter a new data frame for 10 days from 2017-02-05 to 2017-02-16.  We extract hours from Hour column, the new values are relabeled according to the new time intervals. Then these hours are binning in a group in relation to labeling. "
   ]
  },
  {
   "cell_type": "code",
   "execution_count": 6,
   "metadata": {},
   "outputs": [
    {
     "data": {
      "text/html": [
       "<div>\n",
       "<style scoped>\n",
       "    .dataframe tbody tr th:only-of-type {\n",
       "        vertical-align: middle;\n",
       "    }\n",
       "\n",
       "    .dataframe tbody tr th {\n",
       "        vertical-align: top;\n",
       "    }\n",
       "\n",
       "    .dataframe thead th {\n",
       "        text-align: right;\n",
       "    }\n",
       "</style>\n",
       "<table border=\"1\" class=\"dataframe\">\n",
       "  <thead>\n",
       "    <tr style=\"text-align: right;\">\n",
       "      <th></th>\n",
       "      <th>id</th>\n",
       "      <th>tweet</th>\n",
       "      <th>timestamp</th>\n",
       "      <th>of_favorites</th>\n",
       "      <th>of_retweets</th>\n",
       "      <th>source</th>\n",
       "      <th>Date</th>\n",
       "      <th>Time</th>\n",
       "      <th>Hour</th>\n",
       "      <th>bin</th>\n",
       "    </tr>\n",
       "  </thead>\n",
       "  <tbody>\n",
       "    <tr>\n",
       "      <th>303</th>\n",
       "      <td>832375230274400256</td>\n",
       "      <td>'Trump signs bill undoing Obama coal mining ru...</td>\n",
       "      <td>Thu Feb 16 2017 18:44:54</td>\n",
       "      <td>94462</td>\n",
       "      <td>18859</td>\n",
       "      <td>iPhone</td>\n",
       "      <td>2017-02-16</td>\n",
       "      <td>18:44:54</td>\n",
       "      <td>18</td>\n",
       "      <td>Evening</td>\n",
       "    </tr>\n",
       "    <tr>\n",
       "      <th>304</th>\n",
       "      <td>832238070460186624</td>\n",
       "      <td>The Democrats had to come up with a story as t...</td>\n",
       "      <td>Thu Feb 16 2017 09:39:52</td>\n",
       "      <td>122171</td>\n",
       "      <td>27122</td>\n",
       "      <td>Android</td>\n",
       "      <td>2017-02-16</td>\n",
       "      <td>09:39:52</td>\n",
       "      <td>9</td>\n",
       "      <td>Morning</td>\n",
       "    </tr>\n",
       "    <tr>\n",
       "      <th>305</th>\n",
       "      <td>832230758299340800</td>\n",
       "      <td>FAKE NEWS media, which makes up stories and \"s...</td>\n",
       "      <td>Thu Feb 16 2017 09:10:49</td>\n",
       "      <td>100119</td>\n",
       "      <td>20019</td>\n",
       "      <td>Android</td>\n",
       "      <td>2017-02-16</td>\n",
       "      <td>09:10:49</td>\n",
       "      <td>9</td>\n",
       "      <td>Morning</td>\n",
       "    </tr>\n",
       "    <tr>\n",
       "      <th>306</th>\n",
       "      <td>832198588201594880</td>\n",
       "      <td>The spotlight has finally been put on the low-...</td>\n",
       "      <td>Thu Feb 16 2017 07:02:59</td>\n",
       "      <td>127149</td>\n",
       "      <td>25366</td>\n",
       "      <td>Android</td>\n",
       "      <td>2017-02-16</td>\n",
       "      <td>07:02:59</td>\n",
       "      <td>7</td>\n",
       "      <td>Morning</td>\n",
       "    </tr>\n",
       "    <tr>\n",
       "      <th>307</th>\n",
       "      <td>832197515248275456</td>\n",
       "      <td>Leaking, and even illegal classified leaking, ...</td>\n",
       "      <td>Thu Feb 16 2017 06:58:43</td>\n",
       "      <td>90466</td>\n",
       "      <td>17232</td>\n",
       "      <td>Android</td>\n",
       "      <td>2017-02-16</td>\n",
       "      <td>06:58:43</td>\n",
       "      <td>6</td>\n",
       "      <td>Morning</td>\n",
       "    </tr>\n",
       "  </tbody>\n",
       "</table>\n",
       "</div>"
      ],
      "text/plain": [
       "                     id                                              tweet  \\\n",
       "303  832375230274400256  'Trump signs bill undoing Obama coal mining ru...   \n",
       "304  832238070460186624  The Democrats had to come up with a story as t...   \n",
       "305  832230758299340800  FAKE NEWS media, which makes up stories and \"s...   \n",
       "306  832198588201594880  The spotlight has finally been put on the low-...   \n",
       "307  832197515248275456  Leaking, and even illegal classified leaking, ...   \n",
       "\n",
       "                    timestamp  of_favorites  of_retweets   source        Date  \\\n",
       "303  Thu Feb 16 2017 18:44:54         94462        18859   iPhone  2017-02-16   \n",
       "304  Thu Feb 16 2017 09:39:52        122171        27122  Android  2017-02-16   \n",
       "305  Thu Feb 16 2017 09:10:49        100119        20019  Android  2017-02-16   \n",
       "306  Thu Feb 16 2017 07:02:59        127149        25366  Android  2017-02-16   \n",
       "307  Thu Feb 16 2017 06:58:43         90466        17232  Android  2017-02-16   \n",
       "\n",
       "         Time  Hour      bin  \n",
       "303  18:44:54    18  Evening  \n",
       "304  09:39:52     9  Morning  \n",
       "305  09:10:49     9  Morning  \n",
       "306  07:02:59     7  Morning  \n",
       "307  06:58:43     6  Morning  "
      ]
     },
     "execution_count": 6,
     "metadata": {},
     "output_type": "execute_result"
    }
   ],
   "source": [
    "bins = [0, 5, 13, 17, 25]\n",
    "labels = ['Morning','Afternoon','Evening','Night']\n",
    "df2 = pd.DataFrame(df_Trump[(pd.to_datetime(df_Trump.Date) <= pd.to_datetime('2017-02-16')) & (pd.to_datetime(df_Trump.Date) >= pd.to_datetime('2017-02-05'))])\n",
    "hours = df2.Hour\n",
    "df2['bin'] = pd.cut(hours-5+24 *(hours<5),bins=bins,labels=labels,right=False)\n",
    "df2.head()"
   ]
  },
  {
   "cell_type": "markdown",
   "metadata": {},
   "source": [
    "Then, we now can find the total tweets for each time period in day. For this, we group 'Date' column and 'bin' comlumn together so that we create a new data frame. By summing up same occurences of elements from the two columns, we get new values which are added in a new column. Then this new data frame is ready to use for the heat map by creating a gist."
   ]
  },
  {
   "cell_type": "code",
   "execution_count": 7,
   "metadata": {},
   "outputs": [
    {
     "data": {
      "text/html": [
       "<div>\n",
       "<style scoped>\n",
       "    .dataframe tbody tr th:only-of-type {\n",
       "        vertical-align: middle;\n",
       "    }\n",
       "\n",
       "    .dataframe tbody tr th {\n",
       "        vertical-align: top;\n",
       "    }\n",
       "\n",
       "    .dataframe thead th {\n",
       "        text-align: right;\n",
       "    }\n",
       "</style>\n",
       "<table border=\"1\" class=\"dataframe\">\n",
       "  <thead>\n",
       "    <tr style=\"text-align: right;\">\n",
       "      <th></th>\n",
       "      <th>Date</th>\n",
       "      <th>DayPeriod</th>\n",
       "      <th>TotalTweets</th>\n",
       "    </tr>\n",
       "  </thead>\n",
       "  <tbody>\n",
       "    <tr>\n",
       "      <th>0</th>\n",
       "      <td>2017-02-05</td>\n",
       "      <td>Afternoon</td>\n",
       "      <td>3</td>\n",
       "    </tr>\n",
       "    <tr>\n",
       "      <th>1</th>\n",
       "      <td>2017-02-05</td>\n",
       "      <td>Night</td>\n",
       "      <td>1</td>\n",
       "    </tr>\n",
       "    <tr>\n",
       "      <th>2</th>\n",
       "      <td>2017-02-06</td>\n",
       "      <td>Morning</td>\n",
       "      <td>2</td>\n",
       "    </tr>\n",
       "    <tr>\n",
       "      <th>3</th>\n",
       "      <td>2017-02-06</td>\n",
       "      <td>Afternoon</td>\n",
       "      <td>1</td>\n",
       "    </tr>\n",
       "    <tr>\n",
       "      <th>4</th>\n",
       "      <td>2017-02-06</td>\n",
       "      <td>Evening</td>\n",
       "      <td>3</td>\n",
       "    </tr>\n",
       "  </tbody>\n",
       "</table>\n",
       "</div>"
      ],
      "text/plain": [
       "         Date  DayPeriod  TotalTweets\n",
       "0  2017-02-05  Afternoon            3\n",
       "1  2017-02-05      Night            1\n",
       "2  2017-02-06    Morning            2\n",
       "3  2017-02-06  Afternoon            1\n",
       "4  2017-02-06    Evening            3"
      ]
     },
     "execution_count": 7,
     "metadata": {},
     "output_type": "execute_result"
    }
   ],
   "source": [
    "df3 = pd.DataFrame()\n",
    "df3[['Date','DayPeriod','TotalTweets']] = pd.DataFrame(df2.groupby(['Date','bin']).size().reset_index())\n",
    "df3.to_csv('tweets_from_trump_heatmap.csv',index = False)\n",
    "df3.head()"
   ]
  },
  {
   "cell_type": "markdown",
   "metadata": {},
   "source": [
    "### Preparing dataframe of sentiment distribution and frequency of polarity# \n",
    "For each day we extract the sentiment distribution, and we calculate how often the tweets' polarity is negative or positive."
   ]
  },
  {
   "cell_type": "code",
   "execution_count": 8,
   "metadata": {},
   "outputs": [
    {
     "name": "stderr",
     "output_type": "stream",
     "text": [
      "/Users/mac/anaconda/lib/python3.6/site-packages/ipykernel_launcher.py:16: SettingWithCopyWarning: \n",
      "A value is trying to be set on a copy of a slice from a DataFrame\n",
      "\n",
      "See the caveats in the documentation: http://pandas.pydata.org/pandas-docs/stable/indexing.html#indexing-view-versus-copy\n",
      "  app.launch_new_instance()\n",
      "/Users/mac/anaconda/lib/python3.6/site-packages/ipykernel_launcher.py:14: SettingWithCopyWarning: \n",
      "A value is trying to be set on a copy of a slice from a DataFrame\n",
      "\n",
      "See the caveats in the documentation: http://pandas.pydata.org/pandas-docs/stable/indexing.html#indexing-view-versus-copy\n",
      "  \n"
     ]
    }
   ],
   "source": [
    "for i in range(len(df_sentiment.Day.unique())):\n",
    "    grouped_df=df_sentiment.loc[(df_sentiment['Day']==df_sentiment['Day'].unique()[i])].groupby(['Sentiment'])\n",
    "    day_df=pd.DataFrame(grouped_df.size().reset_index(name='Counts'))\n",
    "    day_df = day_df.drop(day_df[np.absolute(day_df.Sentiment)>4].index) # We remove the sentiment rate above 4\n",
    "                        # and below -4 to get a clear view of the distribution, as they are considered as outliers\n",
    "    day_df.to_csv('Sentiment_Distrib_%d'%i+'.csv')\n",
    "    grouped_df=df_sentiment.loc[(df_sentiment['Day']==df_sentiment['Day'].unique()[i])].groupby(['Polarity'])\n",
    "    day_df=pd.DataFrame(grouped_df.size().reset_index(name='Counts'))\n",
    "    day_df['Counts']=round(day_df['Counts']/sum(day_df['Counts']),2)\n",
    "    for j in range(len(day_df['Polarity'])):\n",
    "        if day_df['Polarity'][j]==-1:\n",
    "            day_df['Polarity'][j]='Negative'\n",
    "        elif day_df['Polarity'][j]==1:\n",
    "            day_df['Polarity'][j]='Positive'\n",
    "        else:\n",
    "            day_df['Polarity'][j]='Neutral'\n",
    "    day_df.to_csv('Polarity_%d'%i+'.csv')"
   ]
  },
  {
   "cell_type": "markdown",
   "metadata": {
    "collapsed": true
   },
   "source": [
    "### Preparing dataframe with extracted adjective of each Tweet about Trump."
   ]
  },
  {
   "cell_type": "markdown",
   "metadata": {},
   "source": [
    "We define here a function to extract the adjectives of each tweet that may denote the tweet's polarity. We use here NLP( Natural Language Processing) packages. Note that `stop words` are words commonly used such as prepositions and articles."
   ]
  },
  {
   "cell_type": "code",
   "execution_count": 9,
   "metadata": {
    "collapsed": true
   },
   "outputs": [],
   "source": [
    "def KeyWordExtract(text):\n",
    "    corpus=re.sub(r'(https://.*$)','',text) # Removing URLS from the tweets\n",
    "    corpus=re.sub('@','',corpus)\n",
    "    corpus = corpus.split('\\n') \n",
    "    stop_words = set(stopwords.words('english'))\n",
    "    words=nltk.word_tokenize(corpus[0])\n",
    "    content=''\n",
    "    for (w,pos) in nltk.pos_tag(words): # Each word here is associated to a POS tagger that reflects its nature (noun,adjective...)\n",
    "        if w not in stop_words and (pos[0:2]=='JJ') : # JJ is the part-of-speech tagger for adjective\n",
    "            content=content+' '+w\n",
    "        \n",
    "    if content=='':\n",
    "        content=np.nan\n",
    "            \n",
    "    return content"
   ]
  },
  {
   "cell_type": "markdown",
   "metadata": {
    "collapsed": true
   },
   "source": [
    "We then extract the adjectives from the tweets for each day.\n",
    " \n",
    " `Note:` We recommend <b> NOT</b> running this code since it takes a very long time to run."
   ]
  },
  {
   "cell_type": "code",
   "execution_count": 10,
   "metadata": {},
   "outputs": [
    {
     "name": "stdout",
     "output_type": "stream",
     "text": [
      "0\n",
      "1\n",
      "2\n",
      "3\n",
      "4\n",
      "5\n",
      "6\n",
      "7\n",
      "8\n",
      "9\n",
      "10\n",
      "11\n"
     ]
    }
   ],
   "source": [
    "df=df_sentiment\n",
    "for i in range(len(df.Day.unique())):\n",
    "    print(i)\n",
    "    day_df=df[['Sentiment','text']].loc[(df['Day']==df['Day'].unique()[i])]\n",
    "    day_df=day_df.reset_index(drop=True)\n",
    "    day_df['Keywords']=[KeyWordExtract(day_df['text'][i]) for i in range(len(day_df['text']))]\n",
    "    day_df=day_df.dropna()\n",
    "    day_df = day_df.drop(day_df[np.absolute(day_df.Sentiment)<1].index)\n",
    "    grouped_df=day_df.groupby(['Keywords']).size()\n",
    "    day_df=pd.DataFrame(grouped_df.reset_index(name='Occurences'))\n",
    "    day_df=day_df.drop(day_df[day_df.Occurences < 200].index)\n",
    "    day_df[['Keywords','Occurences']].to_csv('Keyword_%d'%i+'.csv')"
   ]
  },
  {
   "cell_type": "markdown",
   "metadata": {},
   "source": [
    "### Preparing dataframe with Geolocation of Tweets about Trump"
   ]
  },
  {
   "cell_type": "code",
   "execution_count": 11,
   "metadata": {},
   "outputs": [
    {
     "data": {
      "text/html": [
       "<div>\n",
       "<style scoped>\n",
       "    .dataframe tbody tr th:only-of-type {\n",
       "        vertical-align: middle;\n",
       "    }\n",
       "\n",
       "    .dataframe tbody tr th {\n",
       "        vertical-align: top;\n",
       "    }\n",
       "\n",
       "    .dataframe thead th {\n",
       "        text-align: right;\n",
       "    }\n",
       "</style>\n",
       "<table border=\"1\" class=\"dataframe\">\n",
       "  <thead>\n",
       "    <tr style=\"text-align: right;\">\n",
       "      <th></th>\n",
       "      <th>Date</th>\n",
       "      <th>Lat</th>\n",
       "      <th>Lng</th>\n",
       "    </tr>\n",
       "  </thead>\n",
       "  <tbody>\n",
       "    <tr>\n",
       "      <th>0</th>\n",
       "      <td>2017-02-05</td>\n",
       "      <td>47.605476</td>\n",
       "      <td>-122.332481</td>\n",
       "    </tr>\n",
       "    <tr>\n",
       "      <th>1</th>\n",
       "      <td>2017-02-05</td>\n",
       "      <td>43.648422</td>\n",
       "      <td>-79.375366</td>\n",
       "    </tr>\n",
       "    <tr>\n",
       "      <th>2</th>\n",
       "      <td>2017-02-05</td>\n",
       "      <td>32.714314</td>\n",
       "      <td>-117.166275</td>\n",
       "    </tr>\n",
       "    <tr>\n",
       "      <th>3</th>\n",
       "      <td>2017-02-05</td>\n",
       "      <td>51.606640</td>\n",
       "      <td>-0.198339</td>\n",
       "    </tr>\n",
       "    <tr>\n",
       "      <th>4</th>\n",
       "      <td>2017-02-05</td>\n",
       "      <td>40.416939</td>\n",
       "      <td>-3.702460</td>\n",
       "    </tr>\n",
       "  </tbody>\n",
       "</table>\n",
       "</div>"
      ],
      "text/plain": [
       "         Date        Lat         Lng\n",
       "0  2017-02-05  47.605476 -122.332481\n",
       "1  2017-02-05  43.648422  -79.375366\n",
       "2  2017-02-05  32.714314 -117.166275\n",
       "3  2017-02-05  51.606640   -0.198339\n",
       "4  2017-02-05  40.416939   -3.702460"
      ]
     },
     "execution_count": 11,
     "metadata": {},
     "output_type": "execute_result"
    }
   ],
   "source": [
    "DATA1 = df_sentiment.dropna()\n",
    "Geo_data = pd.DataFrame()\n",
    "Geo_data['Date'] = pd.to_datetime(DATA1['created_at']).dt.date\n",
    "Geo_data[['Lat','Lng']] = DATA1[['geo_lat','geo_lng']]\n",
    "\n",
    "Geo_data.reset_index(inplace = True, drop=True)\n",
    "# Save the dataframe to as .csv:\n",
    "Geo_data.to_csv('GeoData.csv',index = False)\n",
    "\n",
    "Geo_data.head()"
   ]
  },
  {
   "cell_type": "markdown",
   "metadata": {},
   "source": [
    "## 2.b Write a short section that discusses the dataset stats, containing key points/plots from your exploratory data analysis. <a id=\"2b\"></a>"
   ]
  },
  {
   "cell_type": "markdown",
   "metadata": {},
   "source": [
    "We calculate here a series of basic stats to know more about the data.\n",
    "The number of Tweets in the second dataset that are from the same period as the Tweets of the first dataset is:\n",
    "The low number of Tweets in the first dataset that have geolocation only make up 7% of the dataset. Therefore this attribute is not very representative.\n",
    "\n",
    "The geolocations of the first dataset are spread around the world but are mostly from US. The dataset also include a column of location however, this is given in terms of city name which is complicated to plot and is therefore not used. \n",
    "\n",
    "\n",
    "**Key Points:** To explore more about Trump's twitters activity, time and date is one key that will be used to explain or narrate the data. The features like tweets, retweets, favorites/likes and sentiment, are also key points that will be used to explore Trump’s popularity.\n"
   ]
  },
  {
   "cell_type": "code",
   "execution_count": 12,
   "metadata": {},
   "outputs": [
    {
     "name": "stdout",
     "output_type": "stream",
     "text": [
      "The total number of tweets in the first dataset:  477\n",
      "The total number of tweets in the second dataset:  1850123\n",
      "The number of Tweets in the first dataset that have geolocation 0.06777927737777435\n"
     ]
    }
   ],
   "source": [
    "print('The total number of tweets in the first dataset: ',len(df_Trump.index))\n",
    "print('The total number of tweets in the second dataset: ',len(df_sentiment.index))\n",
    "df1=df_sentiment[['geo_lat','geo_lng']].dropna()\n",
    "print('The number of Tweets in the first dataset that have geolocation',len(df1)/len(df_sentiment)*100)\n"
   ]
  },
  {
   "cell_type": "markdown",
   "metadata": {},
   "source": [
    "The barchart below shows the number of Tweet made by Trump on an hourly basis. The chart peaks around 8am and 5pm. "
   ]
  },
  {
   "cell_type": "code",
   "execution_count": 13,
   "metadata": {},
   "outputs": [
    {
     "data": {
      "image/png": "[encoded data removed]",
      "text/plain": [
       "<Figure size 720x288 with 1 Axes>"
      ]
     },
     "metadata": {},
     "output_type": "display_data"
    }
   ],
   "source": [
    "# Barchart of timestamps\n",
    "Hours = list(map(lambda x: x.hour, df_new.Time))\n",
    "fig = plt.figure(figsize=(10, 4))\n",
    "plt.hist(Hours,bins=24);\n",
    "plt.xlabel('Hour');\n",
    "plt.ylabel('Number of Tweets');\n",
    "plt.title('Number of Tweets per hour');"
   ]
  },
  {
   "cell_type": "markdown",
   "metadata": {},
   "source": [
    "The bar chart below shows the number of likes Trumps Tweets got over the 12 day periode. He got the most likes on the eighth of February."
   ]
  },
  {
   "cell_type": "code",
   "execution_count": 15,
   "metadata": {},
   "outputs": [
    {
     "data": {
      "image/png": "[encoded data removed]",
      "text/plain": [
       "<Figure size 720x288 with 1 Axes>"
      ]
     },
     "metadata": {},
     "output_type": "display_data"
    }
   ],
   "source": [
    "fig = plt.figure(figsize=(10, 4))\n",
    "plt.bar(sorted(df_new.Date.unique()),df_new.groupby([df_new.Date]).of_favorites.sum().values, align='center');\n",
    "plt.ylabel('Number of likes');\n",
    "plt.xlabel('Date');\n",
    "plt.title('Number of likes per day');"
   ]
  },
  {
   "cell_type": "markdown",
   "metadata": {},
   "source": [
    "The bar chart below shows the number of retweets Trumps Tweets got over the 12 day periode. He got the most retweets on the fifteenth of February."
   ]
  },
  {
   "cell_type": "code",
   "execution_count": 16,
   "metadata": {},
   "outputs": [
    {
     "data": {
      "image/png": "[encoded data removed]",
      "text/plain": [
       "<Figure size 720x288 with 1 Axes>"
      ]
     },
     "metadata": {},
     "output_type": "display_data"
    }
   ],
   "source": [
    "fig = plt.figure(figsize=(10, 4))\n",
    "plt.bar(sorted(df_new.Date.unique()),df_new.groupby([df_new.Date]).of_retweets.sum().values, align='center');\n",
    "plt.ylabel('Number of retweets');\n",
    "plt.xlabel('Date');\n",
    "plt.title('Number of retweets per day');"
   ]
  },
  {
   "cell_type": "markdown",
   "metadata": {
    "collapsed": true
   },
   "source": [
    "# 3. Data analysis <a id=\"3\"></a>"
   ]
  },
  {
   "cell_type": "markdown",
   "metadata": {},
   "source": [
    "## 3.a Describe your data analysis and explain what you've learned about the dataset. <a id=\"3a\"></a>"
   ]
  },
  {
   "cell_type": "markdown",
   "metadata": {},
   "source": [
    "The second dataset unfortunately did not have enough geo-location data, otherwise we would have looked for geographical patterns depending on tweet's locations, whether some particular states tweeted more than others (on average) and somehow followed more Trump's news feed.  One of the most challeging parts is  the keyword extracting to capture the topic of the tweets to get a general idea of the subjects tackled by such a president on his first days. Another issue was that the topics tackled by people in their tweets (the second dataset) were so diverse, it was almost impossible to cluster them into categories"
   ]
  },
  {
   "cell_type": "markdown",
   "metadata": {},
   "source": [
    "## 3.b If relevant, talk about your machine-learning. <a id=\"3b\"></a>"
   ]
  },
  {
   "cell_type": "markdown",
   "metadata": {},
   "source": [
    "In order to give the user an overview of the Tweets without reading all of the tweets, a number of key words are extracted from the tweets text. The method are based on NLP techniques (natural language processing), which is a field in machine learning that aims to give a computer the ability to understand, analyze and eventually generate human language. The goal in this project is to extract the main keywords of a tweet, to have a general idea of its content as well as the adjectives that reflect its sentiment polarity. \n"
   ]
  },
  {
   "cell_type": "markdown",
   "metadata": {},
   "source": [
    "### Wordcloud of keywords:"
   ]
  },
  {
   "cell_type": "markdown",
   "metadata": {},
   "source": [
    "In the following word cloud images are made based on the extracted keywords."
   ]
  },
  {
   "cell_type": "markdown",
   "metadata": {},
   "source": [
    "<b> OBS! </b> To run this you need to install the wordcloud packages from: https://github.com/amueller/word_cloud"
   ]
  },
  {
   "cell_type": "code",
   "execution_count": 17,
   "metadata": {},
   "outputs": [
    {
     "name": "stderr",
     "output_type": "stream",
     "text": [
      "/Users/mac/anaconda/lib/python3.6/site-packages/ipykernel_launcher.py:8: DeprecationWarning: `imread` is deprecated!\n",
      "`imread` is deprecated in SciPy 1.0.0, and will be removed in 1.2.0.\n",
      "Use ``imageio.imread`` instead.\n",
      "  \n",
      "/Users/mac/anaconda/lib/python3.6/site-packages/wordcloud/wordcloud.py:733: UserWarning: mask image should be unsigned byte between 0 and 255. Got a float array\n",
      "  warnings.warn(\"mask image should be unsigned byte between 0\"\n"
     ]
    },
    {
     "data": {
      "image/png": "[encoded data removed]",
      "text/plain": [
       "<Figure size 432x288 with 1 Axes>"
      ]
     },
     "metadata": {},
     "output_type": "display_data"
    }
   ],
   "source": [
    "from wordcloud import WordCloud, STOPWORDS\n",
    "# Get data from GitHub: \n",
    "for j in range(11):\n",
    "    df = pd.read_csv('https://raw.githubusercontent.com/YasminaKerkeb/Sentiment_Distrib/master/Keyword_%d'%j+'.csv')\n",
    "    df.head()\n",
    "    # join tweets to a single string\n",
    "    words = ' '.join(df['Keywords'])\n",
    "    twitter_mask = imread('./twitter_mask.png', flatten=True)\n",
    "    # remove URLs, RTs, and twitter handles\n",
    "    no_urls_no_tags = \" \".join([word for word in words.split()\n",
    "                                if 'http' not in word\n",
    "                                    and not word.startswith('@')\n",
    "                                    and word != 'RT'\n",
    "                                ])\n",
    "\n",
    "    wordcloud = WordCloud(\n",
    "                          stopwords=STOPWORDS,\n",
    "                          width=1800,\n",
    "                          background_color='white',\n",
    "                          height=1400,\n",
    "                          mask=twitter_mask\n",
    "                         ).generate(no_urls_no_tags)\n",
    "\n",
    "    plt.imshow(wordcloud)\n",
    "    plt.axis('off')\n",
    "    plt.savefig('./my_twitter_wordcloud_%d'%j+'.png', dpi=300)\n",
    "plt.show()"
   ]
  },
  {
   "cell_type": "markdown",
   "metadata": {
    "collapsed": true
   },
   "source": [
    "# 4. Genre. Which genre of data story did you use? <a id=\"4\"></a>"
   ]
  },
  {
   "cell_type": "markdown",
   "metadata": {
    "collapsed": true
   },
   "source": [
    "## 4.a Which tools did you use from each of the 3 categories of Visual Narrative (Figure 7 in Segal and Heer). Why? <a id=\"4a\"></a>"
   ]
  },
  {
   "cell_type": "markdown",
   "metadata": {
    "collapsed": true
   },
   "source": [
    "* **Slideshow:** We are displaying a group of interacting explorable data such as number of tweets, retweets, likes, tweet text and sentiment ration within the whole period ore within a day. The user can choose to explore for a certain day, by picking a day from the timeline bar. If a day has been picked the user can explore the individual Tweets by clicking a time bar in the bar chart, a new screen/slide will then be provided so that the user can explore more and more. \n",
    "\n",
    "* **Annotated chart:** The charts are annotated with text and arrow to help guide the user. The annotation will change as the user explores the visualization. Hover effects are added to provide the user with additional information on request. We are also displaying tweets texts, that will appear if the user pick a bar in a bar chart. Example picking a bar in “Number of retweets” bar chart in the visualisation, will show the full Tweet text made at that time.\n",
    "\n",
    "* **Partitioned Poster:** We are displaying charts which are interacting with each other so that the user can explore the data. The user can choose to explore the data of the full periode or focus on a single day or Tweet. \n",
    "\n",
    "* **Navigation Buttons:** The navigation buttons will enhance to display different visualisations between a heatmap and a 3d surface which are showing Trump’s twitters activity. Picking a day data on the main timeline bar will also make changes in the heat map, i.e, it will show a heat map for a specific day.\n"
   ]
  },
  {
   "cell_type": "markdown",
   "metadata": {
    "collapsed": true
   },
   "source": [
    "## 4.b Which tools did you use from each of the 3 categories of Narrative Structure (Figure 7 in Segal and Heer). Why? <a id=\"4b\"></a>"
   ]
  },
  {
   "cell_type": "markdown",
   "metadata": {
    "collapsed": true
   },
   "source": [
    "* **Hover highlighting/Detail:**  Hover effect are added to let the user understand what to click on the charts to begin exploring the data. Furthermore the clickable item of the visualization will lead to additional detailed information.\n",
    "\n",
    "* **Caption/Headlines:**  Headline are added to be able to see more clearly what the user can do with the visualization.\n",
    "\n",
    "* **Random access (Ordering):**  There is no specific sequence for which the user should explore the visualization. Tweet texts and key words are shown as the user clicks or hover the visualization. In that way the user is being narrated just by clicking some part in the charts. The date picker can be click in whatever order the user wishes. Information about the keyword of the Tweets will appear just by hovering over a date.\n",
    "\n",
    "* **Selection (Interactivity):** Interactivity in implemented to make the visualization more fun to explore. All visualization are connect and will react to each other.  To show the topics of the day tweets. The user can mousing on the day bar and the topics are pop up for each day and mousing on sentiment histogram also show data. \n",
    "\n",
    "* **Annotation (Messaging):**  Added to guide the user and to show the tweet texts.\n",
    "\n",
    "* **Multi-messaging (Messaging):** To be able to show many feature data at the same time. By clicking or mousing in the chart, some relating data will be narrated. \n",
    "\n",
    "* **Introductory Text (Messaging):** To show the whole data visualisation more clearly by introducing the user which data is being visualised and why.  \n"
   ]
  },
  {
   "cell_type": "markdown",
   "metadata": {
    "collapsed": true
   },
   "source": [
    "# 5. Visualizations. <a id=\"5\"></a>"
   ]
  },
  {
   "cell_type": "markdown",
   "metadata": {
    "collapsed": true
   },
   "source": [
    "## 5.a Explain the visualizations you've chosen. <a id=\"5a\"></a>"
   ]
  },
  {
   "cell_type": "markdown",
   "metadata": {},
   "source": [
    "* ***Bar Chart :***  \n",
    "    * *Hour of Day slide bar chart :* We are visualising the number of tweets about Trump by himself in percentage   in hour based for a day of range 0 to 24. \n",
    "        \n",
    "    * *hour slide bar chart :*  A mutual bar chart is chosen to show the number of likes and the number of retweets for each tweets by others. This bar chart has a random range of hours in a day changing for different tweets.  By clicking the bar element in the this chart, the tweet text will be appeared.\n",
    "    \n",
    "* ***Picker Bar : ***  \n",
    "    * *A picker bar : *  timeline bar is chosen to show all the 12 days of the period. Mousing on these days on the timeline bar, the popular topics about the election or about US or about Trump, will provide immediately. By clicking the specific day button in the day timeline bar, it will let the user to explore a bunch of information which also relating the other two bar charts above. \n",
    "    \n",
    "* ***Histogram :***  A histogram seemed the most suitable chart to display the sentiment distribution. Mousing on the bars, we are able to see the frequency of each value of the sentiment rate.\n",
    "\n",
    "* ***Doughnut chart :***  the goal of the doughnut chart is to show the relative frequency of each sentiment polarity, rounded to 2 digits. This type of visualization was chosen because readers can see a data comparison at a glance, enabling them to make an immediate analysis. \n",
    "\n",
    "* ***Word Cloud :***  A word cloud is chosen to display the most common adjectives in the tweets about Trump. It is an attractive and engaging type of visualization to get a little insight in the sentiment polarity denoted by the adjectives and the style of writing.\n",
    "\n",
    "* ***Text Display :***  We choose to display tweets texts by Trump himself. There are also some more text displaying in other chart. Mousing on heat map, it will display some text informations like date, day period and tweet counts.\n",
    "\n",
    "* ***Heat map :***  A heat map is chosen to show Trump’s twitter activity in a specific period(12 days). We simply show the activity in four different period of time such as night, morning, afternoon, and evening. The heat map can show when he is most  active in the day.\n",
    "\n",
    "* ***Geo map :***  We choose also a geo map to show the locations of the twitter users who tweet about Trump. This visualisation has few geo location data, but we eventually show in a way that it is explorable as a part of the whole visualisations. \n"
   ]
  },
  {
   "cell_type": "markdown",
   "metadata": {
    "collapsed": true
   },
   "source": [
    "## 5.b Why are they right for the story you want to tell? <a id=\"5b\"></a>"
   ]
  },
  {
   "cell_type": "markdown",
   "metadata": {
    "collapsed": true
   },
   "source": [
    "We wanted to allow the user on one hand to investigate the popularity of the subjects tackled by Trump throughout his first 12 days  of presidency by analyzing the likes and retweets on the histograms that interact with the timeline. We can for example get  the topics on which Trump’s tweet got the most likes and thus got more popular, Security matters and Russia for instance. On the other hand, the aim was to analyze how Trump’s Twitter activity echoed on his popularity by displaying the sentiment rate distribution of people’s tweets reacting on Trump’s activity, as well as the relative frequency of the polarity and finally the most commonly used words in those tweets.  For example,  the sentiment rate histogram shows that most of the tweets are neutral or slightly of positive or negative character with a few peaks on the negative side, probably reacting to particular topics. The doughnut chart and word cloud can also reflect in a way Trump’s popularity by reflecting the public opinion’s polarity and the words he is most associated to. The heat map is also here to detail in time Trump’s Twitter activity and extract time patterns for Donald Trump’s tweets and people’s reactions to them.\n",
    "\n"
   ]
  },
  {
   "cell_type": "markdown",
   "metadata": {
    "collapsed": true
   },
   "source": [
    "# 6. Discussion. Think critically about your creation <a id=\"6\"></a>"
   ]
  },
  {
   "cell_type": "markdown",
   "metadata": {
    "collapsed": true
   },
   "source": [
    "## 6.a What went well? <a id=\"6a\"></a>"
   ]
  },
  {
   "cell_type": "markdown",
   "metadata": {
    "collapsed": true
   },
   "source": [
    "* The visualisations are explorable,  interactive,  detailed-on-demand, and follow a martini glass structure of narrating  social media like twitter affecting Trump’s popularity and his twitter activity.\n",
    "\n",
    "* We were able to create many type of visualizations starting from histograms to heatmaps and word clouds.\n",
    "\n",
    "* We created navigation buttons in observable notebook allowed to save some space instead of going for a linear display of visualizations. It took a certain time for finding the suitable way for this creation.\n",
    "\n",
    "\n"
   ]
  },
  {
   "cell_type": "markdown",
   "metadata": {
    "collapsed": true
   },
   "source": [
    "## 6.b What is still missing? What could be improved? Why? <a id=\"6b\"></a>"
   ]
  },
  {
   "cell_type": "markdown",
   "metadata": {
    "collapsed": true
   },
   "source": [
    "\n",
    "* The chosen period is a rather small one, it would have been better to have a bigger period to capture more patterns in the data, sadly we were not able to find more data.\n",
    "\n",
    "* The geo location visualisation present small data, not very representative.\n",
    "\n",
    "* The keyword extraction for the tweet’s topics and adjectives is still basic, we could have used more advanced techniques to get more relevant results.\n"
   ]
  },
  {
   "cell_type": "markdown",
   "metadata": {
    "collapsed": true
   },
   "source": [
    "# 7. Contributions. Who did what? <a id=\"7\"></a>"
   ]
  },
  {
   "cell_type": "markdown",
   "metadata": {
    "collapsed": true
   },
   "source": [
    "<b> You should write (just briefly) which group member was the main responsible for which elements of the assignment. (I want you guys to understand every part of the assignment, but usually there is someone who took lead role on certain portions of the work. That's what you should explain).\n",
    "It is not OK simply to write \"All group members contributed equally\". </b>"
   ]
  },
  {
   "cell_type": "markdown",
   "metadata": {
    "collapsed": true
   },
   "source": [
    "* Preprocessing of Sentiment data (Yasmina)\n",
    "* Preprocessing of Trump Tweets (Luna)\n",
    "* Preprocessing for Heatmaps (Esther)\n",
    "* Preprocessing + keyword extraction for wordclouds (Yasmina)\n",
    "* Observable heatmap (Esther)\n",
    "* Observable Trump plots (Luna)\n",
    "* Observable histogram/donut (Yasmina)\n",
    "* iPython layout (Luna)\n",
    "* iPython Motivation + stats (Yasmina + Esther)\n",
    "* iPython Analysis (Luna)\n",
    "* iPython Genre + Visualization (Esther)\n",
    "* iPython Discussion (Yasmina)\n"
   ]
  },
  {
   "cell_type": "markdown",
   "metadata": {
    "collapsed": true
   },
   "source": [
    "# References: <a id=\"8\"></a>"
   ]
  },
  {
   "cell_type": "markdown",
   "metadata": {
    "collapsed": true
   },
   "source": [
    "Dataset with Tweets with Keyword Trump: https://data.world/s0nas/donal-trump-tweets-sentiment"
   ]
  },
  {
   "cell_type": "markdown",
   "metadata": {
    "collapsed": true
   },
   "source": [
    "Dataset with Tweets from Trump personal account: https://data.world/sbjun/trumps-post-inaug-tweets"
   ]
  },
  {
   "cell_type": "markdown",
   "metadata": {
    "collapsed": true
   },
   "source": [
    "Package to generate the word cloud: https://github.com/amueller/word_cloud"
   ]
  },
  {
   "cell_type": "markdown",
   "metadata": {},
   "source": [
    "Narrative Visualization: Telling Stories with Data, Edward Segel and Jeffrey Heer"
   ]
  }
 ],
 "metadata": {
  "kernelspec": {
   "display_name": "Python 3",
   "language": "python",
   "name": "python3"
  },
  "language_info": {
   "codemirror_mode": {
    "name": "ipython",
    "version": 3
   },
   "file_extension": ".py",
   "mimetype": "text/x-python",
   "name": "python",
   "nbconvert_exporter": "python",
   "pygments_lexer": "ipython3",
   "version": "3.6.8"
  }
 },
 "nbformat": 4,
 "nbformat_minor": 2
}
